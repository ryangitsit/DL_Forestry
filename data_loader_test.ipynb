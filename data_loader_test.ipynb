{
 "cells": [
  {
   "cell_type": "code",
   "execution_count": null,
   "source": [],
   "outputs": [],
   "metadata": {}
  },
  {
   "cell_type": "code",
   "execution_count": 1,
   "source": [
    "import tensorflow as tf\r\n",
    "import keras"
   ],
   "outputs": [],
   "metadata": {}
  },
  {
   "cell_type": "code",
   "execution_count": 2,
   "source": [
    "from os import path\r\n",
    "from PIL import Image\r\n",
    "import numpy as np"
   ],
   "outputs": [],
   "metadata": {}
  },
  {
   "cell_type": "code",
   "execution_count": null,
   "source": [
    "filenames = []\r\n",
    "labels = []\r\n",
    "for file in os.listdir('forest_data/Data/Train_Data/Fire'):\r\n",
    "    filenames.append(os.path.join('Fire', file))\r\n",
    "    labels.append('Fire')\r\n",
    "\r\n",
    "print(len(labels))\r\n",
    "print(filenames[:10])\r\n",
    "print(labels[:10])"
   ],
   "outputs": [],
   "metadata": {}
  },
  {
   "cell_type": "code",
   "execution_count": null,
   "source": [
    "img_data = np.random.random(size=(100, 100, 3))\r\n",
    "img = tf.keras.preprocessing.image.array_to_img(img_data)\r\n",
    "array = tf.keras.preprocessing.image.img_to_array(img)\r\n",
    "img.show()"
   ],
   "outputs": [],
   "metadata": {}
  },
  {
   "cell_type": "code",
   "execution_count": null,
   "source": [
    "image = Image.open(\"forest_data/Data/Train_Data/Fire/F_0.jpg\")\r\n",
    "image.show()"
   ],
   "outputs": [],
   "metadata": {}
  },
  {
   "cell_type": "code",
   "execution_count": null,
   "source": [
    "all_data = tf.keras.preprocessing.image_dataset_from_directory(\r\n",
    "    \"forest_data/Data/Train_Data/\",\r\n",
    "    labels=\"inferred\",\r\n",
    "    label_mode=\"int\",\r\n",
    "    class_names=None,\r\n",
    "    color_mode=\"rgb\",\r\n",
    "    batch_size=32,\r\n",
    "    image_size=(256, 256),\r\n",
    "    shuffle=True,\r\n",
    "    seed=None,\r\n",
    "    validation_split=None,\r\n",
    "    subset=None,\r\n",
    "    interpolation=\"bilinear\",\r\n",
    "    follow_links=False,\r\n",
    "    #crop_to_aspect_ratio=False,\r\n",
    ")"
   ],
   "outputs": [],
   "metadata": {}
  },
  {
   "cell_type": "code",
   "execution_count": 4,
   "source": [
    "import os\r\n",
    "\r\n",
    "num_skipped = 0\r\n",
    "for folder_name in (\"Fire\", \"Non_Fire\"):\r\n",
    "    folder_path = os.path.join(\"forest_data\\Data\", folder_name)\r\n",
    "    for fname in os.listdir(folder_path):\r\n",
    "        fpath = os.path.join(folder_path, fname)\r\n",
    "        try:\r\n",
    "            fobj = open(fpath, \"rb\")\r\n",
    "            is_jfif = tf.compat.as_bytes(\"JFIF\") in fobj.peek(10)\r\n",
    "        finally:\r\n",
    "            fobj.close()\r\n",
    "\r\n",
    "        if not is_jfif:\r\n",
    "            num_skipped += 1\r\n",
    "            # Delete corrupted image\r\n",
    "            os.remove(fpath)\r\n",
    "\r\n",
    "print(\"Deleted %d images\" % num_skipped)"
   ],
   "outputs": [
    {
     "output_type": "error",
     "ename": "FileNotFoundError",
     "evalue": "[WinError 3] The system cannot find the path specified: 'forest_data\\\\Data\\\\Fire'",
     "traceback": [
      "\u001b[1;31m---------------------------------------------------------------------------\u001b[0m",
      "\u001b[1;31mFileNotFoundError\u001b[0m                         Traceback (most recent call last)",
      "\u001b[1;32m<ipython-input-4-c9f2f66004a9>\u001b[0m in \u001b[0;36m<module>\u001b[1;34m\u001b[0m\n\u001b[0;32m      4\u001b[0m \u001b[1;32mfor\u001b[0m \u001b[0mfolder_name\u001b[0m \u001b[1;32min\u001b[0m \u001b[1;33m(\u001b[0m\u001b[1;34m\"Fire\"\u001b[0m\u001b[1;33m,\u001b[0m \u001b[1;34m\"Non_Fire\"\u001b[0m\u001b[1;33m)\u001b[0m\u001b[1;33m:\u001b[0m\u001b[1;33m\u001b[0m\u001b[1;33m\u001b[0m\u001b[0m\n\u001b[0;32m      5\u001b[0m     \u001b[0mfolder_path\u001b[0m \u001b[1;33m=\u001b[0m \u001b[0mos\u001b[0m\u001b[1;33m.\u001b[0m\u001b[0mpath\u001b[0m\u001b[1;33m.\u001b[0m\u001b[0mjoin\u001b[0m\u001b[1;33m(\u001b[0m\u001b[1;34m\"forest_data\\Data\"\u001b[0m\u001b[1;33m,\u001b[0m \u001b[0mfolder_name\u001b[0m\u001b[1;33m)\u001b[0m\u001b[1;33m\u001b[0m\u001b[1;33m\u001b[0m\u001b[0m\n\u001b[1;32m----> 6\u001b[1;33m     \u001b[1;32mfor\u001b[0m \u001b[0mfname\u001b[0m \u001b[1;32min\u001b[0m \u001b[0mos\u001b[0m\u001b[1;33m.\u001b[0m\u001b[0mlistdir\u001b[0m\u001b[1;33m(\u001b[0m\u001b[0mfolder_path\u001b[0m\u001b[1;33m)\u001b[0m\u001b[1;33m:\u001b[0m\u001b[1;33m\u001b[0m\u001b[1;33m\u001b[0m\u001b[0m\n\u001b[0m\u001b[0;32m      7\u001b[0m         \u001b[0mfpath\u001b[0m \u001b[1;33m=\u001b[0m \u001b[0mos\u001b[0m\u001b[1;33m.\u001b[0m\u001b[0mpath\u001b[0m\u001b[1;33m.\u001b[0m\u001b[0mjoin\u001b[0m\u001b[1;33m(\u001b[0m\u001b[0mfolder_path\u001b[0m\u001b[1;33m,\u001b[0m \u001b[0mfname\u001b[0m\u001b[1;33m)\u001b[0m\u001b[1;33m\u001b[0m\u001b[1;33m\u001b[0m\u001b[0m\n\u001b[0;32m      8\u001b[0m         \u001b[1;32mtry\u001b[0m\u001b[1;33m:\u001b[0m\u001b[1;33m\u001b[0m\u001b[1;33m\u001b[0m\u001b[0m\n",
      "\u001b[1;31mFileNotFoundError\u001b[0m: [WinError 3] The system cannot find the path specified: 'forest_data\\\\Data\\\\Fire'"
     ]
    }
   ],
   "metadata": {}
  },
  {
   "cell_type": "code",
   "execution_count": null,
   "source": [
    "image_size = (180, 180)\r\n",
    "batch_size = 32\r\n",
    "\r\n",
    "train_ds = tf.keras.preprocessing.image_dataset_from_directory(\r\n",
    "    \"forest_data/Data/Train_Data/\",\r\n",
    "    validation_split=0.2,\r\n",
    "    subset=\"training\",\r\n",
    "    seed=1337,\r\n",
    "    image_size=image_size,\r\n",
    "    batch_size=batch_size,\r\n",
    ")\r\n",
    "val_ds = tf.keras.preprocessing.image_dataset_from_directory(\r\n",
    "    \"forest_data/Data/Train_Data/\",\r\n",
    "    validation_split=0.2,\r\n",
    "    subset=\"validation\",\r\n",
    "    seed=1337,\r\n",
    "    image_size=image_size,\r\n",
    "    batch_size=batch_size,\r\n",
    ")"
   ],
   "outputs": [],
   "metadata": {}
  },
  {
   "cell_type": "code",
   "execution_count": null,
   "source": [
    "print(train_ds)"
   ],
   "outputs": [],
   "metadata": {}
  },
  {
   "cell_type": "code",
   "execution_count": null,
   "source": [
    "for data in enumerate(train_ds):\r\n",
    "    print(data)"
   ],
   "outputs": [],
   "metadata": {}
  },
  {
   "cell_type": "code",
   "execution_count": null,
   "source": [
    "model = tf.keras.applications.InceptionV3(\r\n",
    "    include_top=True,\r\n",
    "    weights=None,\r\n",
    "    input_tensor=None,\r\n",
    "    input_shape=(180,180,3),\r\n",
    "    pooling=None,\r\n",
    "    classes=1,\r\n",
    "    classifier_activation=\"softmax\",\r\n",
    ")"
   ],
   "outputs": [],
   "metadata": {}
  },
  {
   "cell_type": "code",
   "execution_count": null,
   "source": [
    "model.compile(\r\n",
    "    optimizer=keras.optimizers.Adam(1e-3),\r\n",
    "    loss=\"binary_crossentropy\",\r\n",
    "    metrics=[\"accuracy\"],\r\n",
    ")"
   ],
   "outputs": [],
   "metadata": {}
  },
  {
   "cell_type": "code",
   "execution_count": null,
   "source": [
    "model.fit(\r\n",
    "        train_ds, epochs=10, callbacks=None, validation_data=val_ds,\r\n",
    "    )"
   ],
   "outputs": [],
   "metadata": {}
  },
  {
   "cell_type": "code",
   "execution_count": null,
   "source": [],
   "outputs": [],
   "metadata": {}
  }
 ],
 "metadata": {
  "orig_nbformat": 4,
  "language_info": {
   "name": "python",
   "version": "3.8.6",
   "mimetype": "text/x-python",
   "codemirror_mode": {
    "name": "ipython",
    "version": 3
   },
   "pygments_lexer": "ipython3",
   "nbconvert_exporter": "python",
   "file_extension": ".py"
  },
  "kernelspec": {
   "name": "python3",
   "display_name": "Python 3.8.6 64-bit"
  },
  "interpreter": {
   "hash": "be1e1bc2117f6a88a9fcb501985d49d5712cfcc846c6e6fd5b0a94853b57f8cf"
  }
 },
 "nbformat": 4,
 "nbformat_minor": 2
}